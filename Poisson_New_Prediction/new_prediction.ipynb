{
 "cells": [
  {
   "cell_type": "code",
   "execution_count": 108,
   "id": "formed-arthur",
   "metadata": {},
   "outputs": [
    {
     "name": "stderr",
     "output_type": "stream",
     "text": [
      "INFO:root:numpy Version is 1.19.5\n",
      "INFO:root:tensorflow Version is 2.4.0\n",
      "INFO:root:\n",
      "\n"
     ]
    },
    {
     "name": "stdout",
     "output_type": "stream",
     "text": [
      "1 Physical GPUs, 1 Logical GPU\n",
      "Thu Nov  4 11:44:50 2021       \n",
      "+-----------------------------------------------------------------------------+\n",
      "| NVIDIA-SMI 460.73.01    Driver Version: 460.73.01    CUDA Version: 11.2     |\n",
      "|-------------------------------+----------------------+----------------------+\n",
      "| GPU  Name        Persistence-M| Bus-Id        Disp.A | Volatile Uncorr. ECC |\n",
      "| Fan  Temp  Perf  Pwr:Usage/Cap|         Memory-Usage | GPU-Util  Compute M. |\n",
      "|                               |                      |               MIG M. |\n",
      "|===============================+======================+======================|\n",
      "|   0  A100-SXM-80GB       On   | 00000000:0B:00.0 Off |                    0 |\n",
      "| N/A   33C    P0    69W / 400W |    568MiB / 81251MiB |      0%      Default |\n",
      "|                               |                      |             Disabled |\n",
      "+-------------------------------+----------------------+----------------------+\n",
      "                                                                               \n",
      "+-----------------------------------------------------------------------------+\n",
      "| Processes:                                                                  |\n",
      "|  GPU   GI   CI        PID   Type   Process name                  GPU Memory |\n",
      "|        ID   ID                                                   Usage      |\n",
      "|=============================================================================|\n",
      "+-----------------------------------------------------------------------------+\n"
     ]
    }
   ],
   "source": [
    "#!/usr/bin/python3\n",
    "# Install TensorFlow\n",
    "import tensorflow as tf\n",
    "import tensorflow.keras as keras\n",
    "from tensorflow.keras.models import Model, Sequential, load_model\n",
    "from tensorflow.keras import activations\n",
    "from tensorflow.keras.layers import Dense, Dropout, Flatten , Convolution2D, MaxPooling2D , Lambda, Conv2D, Activation,Concatenate, Input, BatchNormalization\n",
    "from tensorflow.keras.layers import Conv1D, MaxPooling1D\n",
    "from tensorflow.keras.optimizers import Adam , SGD , Adagrad\n",
    "from tensorflow.keras.callbacks import ModelCheckpoint, LearningRateScheduler, EarlyStopping, CSVLogger, ReduceLROnPlateau\n",
    "from tensorflow.keras.utils import to_categorical\n",
    "from tensorflow.keras import regularizers , initializers\n",
    "import tensorflow.keras.backend as K\n",
    "from sklearn.preprocessing import StandardScaler\n",
    "from joblib import dump, load\n",
    "\n",
    "import numpy as np\n",
    "import matplotlib.pyplot as plt\n",
    "# import autokeras as ak\n",
    "import os \n",
    "import sys\n",
    "import time\n",
    "import importlib\n",
    "import logging\n",
    "from tqdm import tqdm\n",
    "\n",
    "importlib.reload(logging)\n",
    "logging.basicConfig(level = logging.INFO)\n",
    "\n",
    "# limit GPU memory\n",
    "gpus = tf.config.experimental.list_physical_devices('GPU')\n",
    "# if gpus:\n",
    "#   # Restrict TensorFlow to only use the first GPU\n",
    "try:\n",
    "    tf.config.experimental.set_visible_devices(gpus[0], 'GPU')\n",
    "    tf.config.experimental.set_virtual_device_configuration(\n",
    "    gpus[0],\n",
    "    [tf.config.experimental.VirtualDeviceConfiguration(memory_limit=6000)])\n",
    "    logical_gpus = tf.config.experimental.list_logical_devices('GPU')\n",
    "    print(len(gpus), \"Physical GPUs,\", len(logical_gpus), \"Logical GPU\")\n",
    "except RuntimeError as e:\n",
    "# Visible devices must be set before GPUs have been initialized\n",
    "    print(e)\n",
    "\n",
    "logging.info(\"numpy Version is {}\".format(np.__version__))\n",
    "# logging.info(\"autokeras Version is {}\".format(ak.__version__))\n",
    "logging.info(\"tensorflow Version is {}\".format(tf.keras.__version__))\n",
    "logging.info(\"\\n\")\n",
    "\n",
    "!nvidia-smi"
   ]
  },
  {
   "cell_type": "code",
   "execution_count": 2,
   "id": "incorrect-leather",
   "metadata": {},
   "outputs": [
    {
     "name": "stderr",
     "output_type": "stream",
     "text": [
      "INFO:root:experiment: dune\n"
     ]
    }
   ],
   "source": [
    "try:\n",
    "\n",
    "    \"\"\"\n",
    "    Define Name\n",
    "    \"\"\"\n",
    "    experiment = \"dune\"\n",
    "    \n",
    "    logging.info(\"experiment: {}\".format(experiment))\n",
    "\n",
    "except:\n",
    "    print(\"********* Please Check Input Argunment *********\")\n",
    "    print(\"********* Usage: python3 poisson_learning_study_v2_to_5GeV.py experiment physics_parameter *********\")\n",
    "    sys.exit(1)"
   ]
  },
  {
   "cell_type": "code",
   "execution_count": 134,
   "id": "third-brazil",
   "metadata": {},
   "outputs": [
    {
     "name": "stderr",
     "output_type": "stream",
     "text": [
      "INFO:root:X train shape: (900000, 36, 4)\n",
      "INFO:root:X test shape: (100000, 36, 4)\n",
      "INFO:root:Y train shape: (900000, 4)\n",
      "INFO:root:Y test shape: (100000, 4)\n"
     ]
    },
    {
     "name": "stdout",
     "output_type": "stream",
     "text": [
      "CPU times: user 3.46 s, sys: 652 ms, total: 4.12 s\n",
      "Wall time: 4.11 s\n"
     ]
    }
   ],
   "source": [
    "%%time\n",
    "\"\"\"\n",
    "Load Data\n",
    "\"\"\"\n",
    "#======================================================#\n",
    "training_data = np.load(\"../Data/n1000000_0910_all_flat.npz\")\n",
    "#======================================================#\n",
    "\n",
    "\n",
    "\"\"\"\n",
    "Stack Data\n",
    "\"\"\"\n",
    "#======================================================#\n",
    "data_all = np.column_stack([training_data[\"ve_\"+str(experiment)][:,:36], training_data[\"vu_\"+str(experiment)][:,:36], training_data[\"vebar_\"+str(experiment)][:,:36], training_data[\"vubar_\"+str(experiment)][:,:36]])\n",
    "data_all = data_all.reshape(len(data_all),4,36)\n",
    "data_all = np.array([ element.T for element in data_all])\n",
    "\n",
    "\n",
    "target = np.column_stack( [training_data[\"delta\"], training_data[\"theta23\"]])\n",
    "target = target/180*np.pi \n",
    "\n",
    "x_train = data_all[:900000]\n",
    "y_train = target[:900000]\n",
    "y_train = np.column_stack([np.sin(y_train[:,0]), np.cos(y_train[:,0]), np.sin(y_train[:,1]), np.cos(y_train[:,1])]) # 10/26 modified\n",
    "\n",
    "x_test = data_all[900000:]\n",
    "y_test = target[900000:]\n",
    "y_test = np.column_stack([np.sin(y_test[:,0]), np.cos(y_test[:,0]), np.sin(y_test[:,1]), np.cos(y_test[:,1])]) # 10/26 modified\n",
    "\n",
    "logging.info(\"X train shape: {}\".format(x_train.shape))\n",
    "logging.info(\"X test shape: {}\".format(x_test.shape))\n",
    "logging.info(\"Y train shape: {}\".format(y_train.shape))\n",
    "logging.info(\"Y test shape: {}\".format(y_test.shape))\n",
    "\n",
    "\n"
   ]
  },
  {
   "cell_type": "code",
   "execution_count": 135,
   "id": "every-control",
   "metadata": {},
   "outputs": [],
   "source": [
    "def Regression_Model(trig=False):\n",
    "    #Ref: https://towardsdatascience.com/can-machine-learn-the-concept-of-sine-4047dced3f11\n",
    "    inputs = Input(shape=(36,4),name = 'input')\n",
    "    conv1d_1 = Conv1D(filters=1, kernel_size=10,strides=1, activation='relu', name = 'conv1d_1')(inputs)\n",
    "    conv1d_2 = Conv1D(filters=1, kernel_size=10,strides=1, activation='relu', name = 'conv1d_2')(conv1d_1)\n",
    "    flatten_1 = Flatten(name = \"flatten_1\")(conv1d_2)\n",
    "    dense_1 = Dense(512, activation='relu', name = 'dense_1')(flatten_1)\n",
    "    dense_2 = Dense(256, activation='relu', name = 'dense_2')(dense_1)\n",
    "    dense_3 = Dense(256, activation='relu', name = 'dense_3')(dense_2)\n",
    "    dense_4 = Dense(128, activation='relu', name = 'dense_4')(dense_3)\n",
    "    dense_5 = Dense(128, activation='relu', name = 'dense_5')(dense_4)\n",
    "    if trig == False:\n",
    "        out1 = Dense(1, activation='linear', name = \"output1\")(dense_5)\n",
    "#         out2 = Dense(1, activation='linear', name = \"output2\")(dense_5)\n",
    "    elif trig == True:\n",
    "        out1 = Dense(4, activation='linear', name = \"output1\")(dense_5)\n",
    "#         out2 = Dense(2, activation='linear', name = \"output2\")(dense_5)\n",
    "\n",
    "#     regression_model = Model(inputs=inputs, outputs=[out1,out2], name = 'Model')\n",
    "    regression_model = Model(inputs=inputs, outputs=out1, name = 'Model')\n",
    "\n",
    "\n",
    "\n",
    "#     model_opt = keras.optimizers.Adadelta()\n",
    "    model_opt = keras.optimizers.Adam()\n",
    "\n",
    "    regression_model.compile(loss=\"mean_squared_error\",\n",
    "                       optimizer=model_opt,\n",
    "                       metrics=[\"mse\",\"mae\"])\n",
    "\n",
    "    return regression_model"
   ]
  },
  {
   "cell_type": "code",
   "execution_count": 136,
   "id": "numerical-review",
   "metadata": {},
   "outputs": [
    {
     "name": "stdout",
     "output_type": "stream",
     "text": [
      "Model: \"Model\"\n",
      "_________________________________________________________________\n",
      "Layer (type)                 Output Shape              Param #   \n",
      "=================================================================\n",
      "input (InputLayer)           [(None, 36, 4)]           0         \n",
      "_________________________________________________________________\n",
      "conv1d_1 (Conv1D)            (None, 27, 1)             41        \n",
      "_________________________________________________________________\n",
      "conv1d_2 (Conv1D)            (None, 18, 1)             11        \n",
      "_________________________________________________________________\n",
      "flatten_1 (Flatten)          (None, 18)                0         \n",
      "_________________________________________________________________\n",
      "dense_1 (Dense)              (None, 512)               9728      \n",
      "_________________________________________________________________\n",
      "dense_2 (Dense)              (None, 256)               131328    \n",
      "_________________________________________________________________\n",
      "dense_3 (Dense)              (None, 256)               65792     \n",
      "_________________________________________________________________\n",
      "dense_4 (Dense)              (None, 128)               32896     \n",
      "_________________________________________________________________\n",
      "dense_5 (Dense)              (None, 128)               16512     \n",
      "_________________________________________________________________\n",
      "output1 (Dense)              (None, 4)                 516       \n",
      "=================================================================\n",
      "Total params: 256,824\n",
      "Trainable params: 256,824\n",
      "Non-trainable params: 0\n",
      "_________________________________________________________________\n"
     ]
    }
   ],
   "source": [
    "model = Regression_Model(trig=True) \n",
    "model.summary()"
   ]
  },
  {
   "cell_type": "code",
   "execution_count": 137,
   "id": "threatened-recognition",
   "metadata": {},
   "outputs": [
    {
     "name": "stdout",
     "output_type": "stream",
     "text": [
      "12657/12657 [==============================] - 43s 2ms/step - loss: 0.1128 - mse: 0.1128 - mae: 0.1601 - val_loss: 7.0185e-04 - val_mse: 7.0185e-04 - val_mae: 0.0186\n"
     ]
    },
    {
     "data": {
      "text/plain": [
       "<tensorflow.python.keras.callbacks.History at 0x7fef636581d0>"
      ]
     },
     "execution_count": 137,
     "metadata": {},
     "output_type": "execute_result"
    }
   ],
   "source": [
    "model.fit( x_train,\n",
    "           y_train,\n",
    "           validation_split = 0.1,\n",
    "           batch_size=64,\n",
    "           epochs=1,\n",
    "           verbose=1,\n",
    "           shuffle = True,\n",
    "#                callbacks=check_list\n",
    "             )"
   ]
  },
  {
   "cell_type": "code",
   "execution_count": 138,
   "id": "worldwide-defensive",
   "metadata": {},
   "outputs": [],
   "source": [
    "prediction = model.predict(x_test)"
   ]
  },
  {
   "cell_type": "code",
   "execution_count": 139,
   "id": "appointed-graduate",
   "metadata": {},
   "outputs": [
    {
     "data": {
      "text/plain": [
       "array([[ 0.97221226,  0.22528848,  0.6468325 ,  0.76070523],\n",
       "       [ 0.89982945, -0.45764026,  0.62512064,  0.7744713 ]],\n",
       "      dtype=float32)"
      ]
     },
     "execution_count": 139,
     "metadata": {},
     "output_type": "execute_result"
    }
   ],
   "source": [
    "prediction[:2]"
   ]
  },
  {
   "cell_type": "code",
   "execution_count": 140,
   "id": "obvious-happiness",
   "metadata": {},
   "outputs": [
    {
     "data": {
      "text/plain": [
       "array([[ 0.96604588,  0.25837058,  0.65322108,  0.75716723],\n",
       "       [ 0.92350506, -0.38358623,  0.63668675,  0.77112255]])"
      ]
     },
     "execution_count": 140,
     "metadata": {},
     "output_type": "execute_result"
    }
   ],
   "source": [
    "y_test[:2]"
   ]
  },
  {
   "cell_type": "code",
   "execution_count": 142,
   "id": "secondary-helen",
   "metadata": {},
   "outputs": [
    {
     "data": {
      "text/plain": [
       "1.3430876929361821"
      ]
     },
     "execution_count": 142,
     "metadata": {},
     "output_type": "execute_result"
    }
   ],
   "source": [
    "np.arctan2(0.97221226,  0.22528848)"
   ]
  },
  {
   "cell_type": "code",
   "execution_count": 141,
   "id": "entitled-composer",
   "metadata": {},
   "outputs": [
    {
     "data": {
      "text/plain": [
       "1.309461195224224"
      ]
     },
     "execution_count": 141,
     "metadata": {},
     "output_type": "execute_result"
    }
   ],
   "source": [
    "np.arctan2(y_test[0,:])"
   ]
  },
  {
   "cell_type": "code",
   "execution_count": 149,
   "id": "rocky-immigration",
   "metadata": {},
   "outputs": [
    {
     "data": {
      "text/plain": [
       "array([0.7046719 , 0.6790903 , 0.7609129 , ..., 0.71921605, 0.8188449 ,\n",
       "       0.73160243], dtype=float32)"
      ]
     },
     "execution_count": 149,
     "metadata": {},
     "output_type": "execute_result"
    }
   ],
   "source": [
    "np.arctan2(prediction[:,2],prediction[:,3])# - np.arctan2(y_test[:,2:4])"
   ]
  },
  {
   "cell_type": "code",
   "execution_count": 153,
   "id": "violent-amino",
   "metadata": {},
   "outputs": [
    {
     "data": {
      "text/plain": [
       "0.0004055870111748446"
      ]
     },
     "execution_count": 153,
     "metadata": {},
     "output_type": "execute_result"
    }
   ],
   "source": [
    "np.mean((np.arctan2(prediction[:,2],prediction[:,3])- np.arctan2(y_test[:,2],y_test[:,3]))**2)"
   ]
  },
  {
   "cell_type": "code",
   "execution_count": null,
   "id": "centered-pitch",
   "metadata": {},
   "outputs": [],
   "source": []
  }
 ],
 "metadata": {
  "kernelspec": {
   "display_name": "Python 3",
   "language": "python",
   "name": "python3"
  },
  "language_info": {
   "codemirror_mode": {
    "name": "ipython",
    "version": 3
   },
   "file_extension": ".py",
   "mimetype": "text/x-python",
   "name": "python",
   "nbconvert_exporter": "python",
   "pygments_lexer": "ipython3",
   "version": "3.6.8"
  }
 },
 "nbformat": 4,
 "nbformat_minor": 5
}
