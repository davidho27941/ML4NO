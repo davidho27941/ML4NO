{
 "cells": [
  {
   "cell_type": "code",
   "execution_count": 1,
   "metadata": {},
   "outputs": [],
   "source": [
    "# -*- coding: utf-8 -*-\n",
    "import numpy as np\n",
    "from mpl_toolkits.mplot3d import Axes3D\n",
    "import matplotlib as mpl\n",
    "from scipy import interpolate\n",
    "import matplotlib.cm as cm\n",
    "import matplotlib.pyplot as plt\n",
    " \n",
    "import matplotlib as mpl\n",
    "from mpl_toolkits.mplot3d import Axes3D\n",
    "import numpy as np\n",
    "import matplotlib.pyplot as plt"
   ]
  },
  {
   "cell_type": "code",
   "execution_count": 21,
   "metadata": {},
   "outputs": [],
   "source": [
    "#Import txt檔\n",
    "f_DUNE_NO = open(\"/globes-3.2.18/examples/one_sigma_contour_DUNE_NO.dat\")\n",
    "f_DUNE_IO = open(\"/globes-3.2.18/examples/one_sigma_contour_DUNE_IO.dat\")"
   ]
  },
  {
   "cell_type": "code",
   "execution_count": 22,
   "metadata": {},
   "outputs": [],
   "source": [
    "theta23_DUNE_NO = []\n",
    "delta_cp_DUNE_NO = []\n",
    "chi_DUNE_NO = []\n",
    "theta23_DUNE_IO = []\n",
    "delta_cp_DUNE_IO = []\n",
    "chi_DUNE_IO = []\n",
    "\n",
    "while True:\n",
    "    s = f_DUNE_NO.readline().split()\n",
    "    array = []\n",
    "    for j in range(len(s)) :\n",
    "        array.append(float(s[j]))\n",
    "    if(len(array)>0):\n",
    "        theta23_DUNE_NO.append(array[0])\n",
    "        delta_cp_DUNE_NO.append(array[1]) \n",
    "        chi_DUNE_NO.append(array[2])\n",
    "    else:\n",
    "        break\n",
    "while True:\n",
    "    s = f_DUNE_IO.readline().split()\n",
    "    array = []\n",
    "    for j in range(len(s)) :\n",
    "        array.append(float(s[j])) \n",
    "    if(len(array)>0):\n",
    "        theta23_DUNE_IO.append(array[0])\n",
    "        delta_cp_DUNE_IO.append(array[1]) \n",
    "        chi_DUNE_IO.append(array[2])\n",
    "    else:\n",
    "        break\n",
    "\n",
    "theta23_DUNE_NO = np.array(theta23_DUNE_NO)\n",
    "delta_cp_DUNE_NO = np.array(delta_cp_DUNE_NO)\n",
    "chi_DUNE_NO = np.array(chi_DUNE_NO)\n",
    "theta23_DUNE_IO = np.array(theta23_DUNE_IO)\n",
    "delta_cp_DUNE_IO = np.array(delta_cp_DUNE_IO)\n",
    "chi_DUNE_IO = np.array(chi_DUNE_IO)"
   ]
  },
  {
   "cell_type": "markdown",
   "metadata": {},
   "source": [
    "## Plot 1 sigma Contour"
   ]
  },
  {
   "cell_type": "markdown",
   "metadata": {},
   "source": [
    "### DUNE_NO"
   ]
  },
  {
   "cell_type": "code",
   "execution_count": 23,
   "metadata": {},
   "outputs": [
    {
     "data": {
      "text/plain": [
       "array([[0., 0., 0., ..., 0., 0., 0.],\n",
       "       [0., 0., 0., ..., 0., 0., 0.],\n",
       "       [0., 0., 0., ..., 0., 0., 0.],\n",
       "       ...,\n",
       "       [0., 0., 0., ..., 0., 0., 0.],\n",
       "       [0., 0., 0., ..., 0., 0., 0.],\n",
       "       [0., 0., 0., ..., 0., 0., 0.]])"
      ]
     },
     "execution_count": 23,
     "metadata": {},
     "output_type": "execute_result"
    }
   ],
   "source": [
    "a0 = min(theta23_DUNE_NO)*100-300\n",
    "b0 = max(theta23_DUNE_NO)*100 + 300\n",
    "c0 = min(delta_cp_DUNE_NO)*10-60\n",
    "d0 = max(delta_cp_DUNE_NO)*10+60\n",
    "x0 = np.linspace(int(a0), int(b0), int((b0 - a0) + 1))/100\n",
    "y0 = np.linspace(int(c0), int(d0), int(d0 - c0 + 1))/10\n",
    "X0, Y0 = np.meshgrid(x0, y0)\n",
    "Z0 = np.zeros((len(X0),len(X0[0])))\n",
    "\n",
    "for i in range(len(theta23_DUNE_NO)):\n",
    "    a = np.where(X0 == theta23_DUNE_NO[i])[1][0]\n",
    "    b = np.where(Y0 == delta_cp_DUNE_NO[i])[0][0]\n",
    "    Z0[b][a] = 1\n",
    "Z0"
   ]
  },
  {
   "cell_type": "markdown",
   "metadata": {},
   "source": [
    "### DUNE_IO"
   ]
  },
  {
   "cell_type": "code",
   "execution_count": 24,
   "metadata": {},
   "outputs": [
    {
     "data": {
      "text/plain": [
       "array([[0., 0., 0., ..., 0., 0., 0.],\n",
       "       [0., 0., 0., ..., 0., 0., 0.],\n",
       "       [0., 0., 0., ..., 0., 0., 0.],\n",
       "       ...,\n",
       "       [0., 0., 0., ..., 0., 0., 0.],\n",
       "       [0., 0., 0., ..., 0., 0., 0.],\n",
       "       [0., 0., 0., ..., 0., 0., 0.]])"
      ]
     },
     "execution_count": 24,
     "metadata": {},
     "output_type": "execute_result"
    }
   ],
   "source": [
    "a1 = min(theta23_DUNE_IO)*100-300\n",
    "b1 = max(theta23_DUNE_IO)*100 + 300\n",
    "c1 = min(delta_cp_DUNE_IO)*10-60\n",
    "d1 = max(delta_cp_DUNE_IO)*10+60\n",
    "x1 = np.linspace(int(a1), int(b1), int((b1 - a1) + 1))/100\n",
    "y1 = np.linspace(int(c1), int(d1), int(d1 - c1 + 1))/10\n",
    "X1, Y1 = np.meshgrid(x1, y1)\n",
    "Z1 = np.zeros((len(X1),len(X1[0])))\n",
    "\n",
    "for i in range(len(theta23_DUNE_IO)):\n",
    "    a = np.where(X1 == theta23_DUNE_IO[i])[1][0]\n",
    "    b = np.where(Y1 == delta_cp_DUNE_IO[i])[0][0]\n",
    "    Z1[b][a] = 1\n",
    "Z1"
   ]
  },
  {
   "cell_type": "markdown",
   "metadata": {},
   "source": [
    "## Plot"
   ]
  },
  {
   "cell_type": "code",
   "execution_count": 25,
   "metadata": {},
   "outputs": [
    {
     "name": "stderr",
     "output_type": "stream",
     "text": [
      "<ipython-input-25-1f821e7905e1>:5: UserWarning: No contour levels were found within the data range.\n",
      "  DUNE_NO = plt.contour(X0, Y0, Z0, 0, colors='green', linestyles=\"-\", linewidths=1)\n",
      "<ipython-input-25-1f821e7905e1>:6: UserWarning: No contour levels were found within the data range.\n",
      "  DUNE_IO = plt.contour(X1, Y1, Z1, 0, colors='blue', linestyles=\"-\", linewidths=1)\n"
     ]
    },
    {
     "data": {
      "text/plain": [
       "<matplotlib.legend.Legend at 0x7f55b03daf40>"
      ]
     },
     "execution_count": 25,
     "metadata": {},
     "output_type": "execute_result"
    },
    {
     "data": {
      "image/png": "[encoded data removed]",
      "text/plain": [
       "<Figure size 576x576 with 1 Axes>"
      ]
     },
     "metadata": {
      "needs_background": "light"
     },
     "output_type": "display_data"
    }
   ],
   "source": [
    "from matplotlib.collections import LineCollection\n",
    "plt.figure(figsize = (8,8))\n",
    "plt.xlim(48, 50)\n",
    "# plt.ylim(150, 250)\n",
    "DUNE_NO = plt.contour(X0, Y0, Z0, 0, colors='green', linestyles=\"-\", linewidths=1)\n",
    "DUNE_IO = plt.contour(X1, Y1, Z1, 0, colors='blue', linestyles=\"-\", linewidths=1)\n",
    "\n",
    "DUNE_NO.collections[0].set_label(\"DUNE_NO\")\n",
    "DUNE_IO.collections[0].set_label(\"DUNE_IO\")\n",
    "\n",
    "plt.xlabel(r'$\\theta_{23} $', fontsize=20)\n",
    "plt.ylabel(r'$\\delta_{cp} $', fontsize=20)\n",
    "plt.title('GLoBES 'r'$1\\sigma $', fontsize=20)\n",
    "plt.legend()"
   ]
  },
  {
   "cell_type": "code",
   "execution_count": 10,
   "metadata": {},
   "outputs": [
    {
     "data": {
      "text/plain": [
       "array([48.94, 48.94, 48.94, ..., 49.63, 49.63, 49.63])"
      ]
     },
     "execution_count": 10,
     "metadata": {},
     "output_type": "execute_result"
    }
   ],
   "source": [
    "theta23_DUNE_IO"
   ]
  },
  {
   "cell_type": "code",
   "execution_count": 20,
   "metadata": {},
   "outputs": [
    {
     "name": "stdout",
     "output_type": "stream",
     "text": [
      "7\n",
      "12\n",
      "19\n",
      "31\n",
      "50\n",
      "81\n",
      "131\n",
      "212\n",
      "343\n",
      "555\n",
      "898\n",
      "1453\n",
      "2351\n",
      "3804\n",
      "6155\n",
      "9959\n",
      "16114\n",
      "26073\n",
      "42187\n",
      "68260\n"
     ]
    }
   ],
   "source": [
    "i = 2\n",
    "j = 5\n",
    "for n in range(20):\n",
    "    count = i+j\n",
    "    print(count)\n",
    "    i = j\n",
    "    j = count\n",
    "    "
   ]
  },
  {
   "cell_type": "code",
   "execution_count": 12,
   "metadata": {},
   "outputs": [
    {
     "data": {
      "text/plain": [
       "278.0"
      ]
     },
     "execution_count": 12,
     "metadata": {},
     "output_type": "execute_result"
    }
   ],
   "source": [
    "min(delta_cp_DUNE_IO)"
   ]
  },
  {
   "cell_type": "code",
   "execution_count": 11,
   "metadata": {},
   "outputs": [
    {
     "data": {
      "text/plain": [
       "(array([1447., 1496., 1532., 1540., 1540., 1506., 1444., 1349., 1202.,\n",
       "         984.]),\n",
       " array([278.  , 280.19, 282.38, 284.57, 286.76, 288.95, 291.14, 293.33,\n",
       "        295.52, 297.71, 299.9 ]),\n",
       " <BarContainer object of 10 artists>)"
      ]
     },
     "execution_count": 11,
     "metadata": {},
     "output_type": "execute_result"
    },
    {
     "data": {
      "image/png": "[encoded data removed]",
      "text/plain": [
       "<Figure size 432x288 with 1 Axes>"
      ]
     },
     "metadata": {
      "needs_background": "light"
     },
     "output_type": "display_data"
    }
   ],
   "source": [
    "plt.hist(delta_cp_DUNE_IO)"
   ]
  },
  {
   "cell_type": "code",
   "execution_count": null,
   "metadata": {},
   "outputs": [],
   "source": []
  }
 ],
 "metadata": {
  "kernelspec": {
   "display_name": "Python 3",
   "language": "python",
   "name": "python3"
  },
  "language_info": {
   "codemirror_mode": {
    "name": "ipython",
    "version": 3
   },
   "file_extension": ".py",
   "mimetype": "text/x-python",
   "name": "python",
   "nbconvert_exporter": "python",
   "pygments_lexer": "ipython3",
   "version": "3.8.5"
  }
 },
 "nbformat": 4,
 "nbformat_minor": 4
}
