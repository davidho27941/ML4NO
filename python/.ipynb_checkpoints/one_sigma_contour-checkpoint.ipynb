{
 "cells": [
  {
   "cell_type": "code",
   "execution_count": 66,
   "metadata": {},
   "outputs": [],
   "source": [
    "# -*- coding: utf-8 -*-\n",
    "import numpy as np\n",
    "from mpl_toolkits.mplot3d import Axes3D\n",
    "import matplotlib as mpl\n",
    "from scipy import interpolate\n",
    "import matplotlib.cm as cm\n",
    "import matplotlib.pyplot as plt\n",
    " \n",
    "import matplotlib as mpl\n",
    "from mpl_toolkits.mplot3d import Axes3D\n",
    "import numpy as np\n",
    "import matplotlib.pyplot as plt"
   ]
  },
  {
   "cell_type": "code",
   "execution_count": 67,
   "metadata": {},
   "outputs": [],
   "source": [
    "#Import txt檔\n",
    "f_DUNE = open(\"/globes-3.2.18/examples/one_sigma_contour_DUNE.dat\")\n",
    "f_T2HK = open(\"/globes-3.2.18/examples/one_sigma_contour_T2HK.dat\")\n",
    "f_DUT2 = open(\"/globes-3.2.18/examples/one_sigma_contour_DUT2.dat\")"
   ]
  },
  {
   "cell_type": "code",
   "execution_count": 68,
   "metadata": {},
   "outputs": [],
   "source": [
    "theta23_DUNE = []\n",
    "delta_cp_DUNE = []\n",
    "chi_DUNE = []\n",
    "theta23_T2HK = []\n",
    "delta_cp_T2HK = []\n",
    "chi_T2HK = []\n",
    "theta23_DUT2 = []\n",
    "delta_cp_DUT2 = []\n",
    "chi_DUT2 = []\n",
    "\n",
    "while True:\n",
    "    s = f_DUNE.readline().split()\n",
    "    array = []\n",
    "    for j in range(len(s)) :\n",
    "        array.append(float(s[j]))\n",
    "    if(len(array)>0):\n",
    "        theta23_DUNE.append(array[0])\n",
    "        delta_cp_DUNE.append(array[1]) \n",
    "        chi_DUNE.append(array[2])\n",
    "    else:\n",
    "        break\n",
    "while True:\n",
    "    s = f_T2HK.readline().split()\n",
    "    array = []\n",
    "    for j in range(len(s)) :\n",
    "        array.append(float(s[j])) \n",
    "    if(len(array)>0):\n",
    "        theta23_T2HK.append(array[0])\n",
    "        delta_cp_T2HK.append(array[1]) \n",
    "        chi_T2HK.append(array[2])\n",
    "    else:\n",
    "        break\n",
    "while True:\n",
    "    s = f_DUT2.readline().split()\n",
    "    array = []\n",
    "    for j in range(len(s)) :\n",
    "        array.append(float(s[j])) \n",
    "    if(len(array)>0):\n",
    "        theta23_DUT2.append(array[0])\n",
    "        delta_cp_DUT2.append(array[1]) \n",
    "        chi_DUT2.append(array[2])\n",
    "    else:\n",
    "        break        \n",
    "\n",
    "theta23_DUNE = np.array(theta23_DUNE)\n",
    "delta_cp_DUNE = np.array(delta_cp_DUNE)\n",
    "chi_DUNE = np.array(chi_DUNE)\n",
    "theta23_T2HK = np.array(theta23_T2HK)\n",
    "delta_cp_T2HK = np.array(delta_cp_T2HK)\n",
    "chi_T2HK = np.array(chi_T2HK)\n",
    "theta23_DUT2 = np.array(theta23_DUT2)\n",
    "delta_cp_DUT2 = np.array(delta_cp_DUT2)\n",
    "chi_DUT2 = np.array(chi_DUT2)"
   ]
  },
  {
   "cell_type": "markdown",
   "metadata": {},
   "source": [
    "## Plot 1 sigma Contour"
   ]
  },
  {
   "cell_type": "markdown",
   "metadata": {},
   "source": [
    "### DUNE"
   ]
  },
  {
   "cell_type": "code",
   "execution_count": 69,
   "metadata": {},
   "outputs": [
    {
     "data": {
      "text/plain": [
       "array([[0., 0., 0., ..., 0., 0., 0.],\n",
       "       [0., 0., 0., ..., 0., 0., 0.],\n",
       "       [0., 0., 0., ..., 0., 0., 0.],\n",
       "       ...,\n",
       "       [0., 0., 0., ..., 0., 0., 0.],\n",
       "       [0., 0., 0., ..., 0., 0., 0.],\n",
       "       [0., 0., 0., ..., 0., 0., 0.]])"
      ]
     },
     "execution_count": 69,
     "metadata": {},
     "output_type": "execute_result"
    }
   ],
   "source": [
    "a0 = min(theta23_DUNE)*100-300\n",
    "b0 = max(theta23_DUNE)*100 + 300\n",
    "c0 = min(delta_cp_DUNE)-6\n",
    "d0 = max(delta_cp_DUNE)+6\n",
    "x0 = np.linspace(int(a0), int(b0), int((b0 - a0)/5 + 1))/100\n",
    "y0 = np.linspace(int(c0), int(d0), int(d0 - c0 + 1))\n",
    "X0, Y0 = np.meshgrid(x0, y0)\n",
    "Z0 = np.zeros((len(X0),len(X0[0])))\n",
    "\n",
    "for i in range(len(theta23_DUNE)):\n",
    "    a = np.where(X0 == theta23_DUNE[i])[1][0]\n",
    "    b = np.where(Y0 == delta_cp_DUNE[i])[0][0]\n",
    "    Z0[b][a] = 1\n",
    "Z0"
   ]
  },
  {
   "cell_type": "markdown",
   "metadata": {},
   "source": [
    "### T2HK"
   ]
  },
  {
   "cell_type": "code",
   "execution_count": 70,
   "metadata": {},
   "outputs": [
    {
     "data": {
      "text/plain": [
       "array([[0., 0., 0., ..., 0., 0., 0.],\n",
       "       [0., 0., 0., ..., 0., 0., 0.],\n",
       "       [0., 0., 0., ..., 0., 0., 0.],\n",
       "       ...,\n",
       "       [0., 0., 0., ..., 0., 0., 0.],\n",
       "       [0., 0., 0., ..., 0., 0., 0.],\n",
       "       [0., 0., 0., ..., 0., 0., 0.]])"
      ]
     },
     "execution_count": 70,
     "metadata": {},
     "output_type": "execute_result"
    }
   ],
   "source": [
    "a1 = min(theta23_T2HK)*100-300\n",
    "b1 = max(theta23_T2HK)*100 + 300\n",
    "c1 = min(delta_cp_T2HK)-6\n",
    "d1 = max(delta_cp_T2HK)+6\n",
    "x1 = np.linspace(int(a1), int(b1), int((b1 - a1)/5 + 1))/100\n",
    "y1 = np.linspace(int(c1), int(d1), int(d1 - c1 + 1))\n",
    "X1, Y1 = np.meshgrid(x1, y1)\n",
    "Z1 = np.zeros((len(X1),len(X1[0])))\n",
    "\n",
    "for i in range(len(theta23_T2HK)):\n",
    "    a = np.where(X1 == theta23_T2HK[i])[1][0]\n",
    "    b = np.where(Y1 == delta_cp_T2HK[i])[0][0]\n",
    "    Z1[b][a] = 1\n",
    "Z1"
   ]
  },
  {
   "cell_type": "code",
   "execution_count": 71,
   "metadata": {},
   "outputs": [
    {
     "data": {
      "text/plain": [
       "array([192., 193., 194., 195., 196., 197., 198., 191., 192., 193., 194.,\n",
       "       195., 196., 197., 198., 199., 200., 190., 191., 192., 193., 194.,\n",
       "       195., 196., 197., 198., 199., 200., 201., 189., 190., 191., 192.,\n",
       "       193., 194., 195., 196., 197., 198., 199., 200., 201., 189., 190.,\n",
       "       191., 192., 193., 194., 195., 196., 197., 198., 199., 200., 201.,\n",
       "       189., 190., 191., 192., 193., 194., 195., 196., 197., 198., 199.,\n",
       "       200., 201., 189., 190., 191., 192., 193., 194., 195., 196., 197.,\n",
       "       198., 199., 200., 201., 190., 191., 192., 193., 194., 195., 196.,\n",
       "       197., 198., 199., 193., 194., 195., 196., 197.])"
      ]
     },
     "execution_count": 71,
     "metadata": {},
     "output_type": "execute_result"
    }
   ],
   "source": [
    "delta_cp_DUT2"
   ]
  },
  {
   "cell_type": "markdown",
   "metadata": {},
   "source": [
    "### DUNE+T2HK"
   ]
  },
  {
   "cell_type": "code",
   "execution_count": 72,
   "metadata": {},
   "outputs": [
    {
     "data": {
      "text/plain": [
       "array([[0., 0., 0., ..., 0., 0., 0.],\n",
       "       [0., 0., 0., ..., 0., 0., 0.],\n",
       "       [0., 0., 0., ..., 0., 0., 0.],\n",
       "       ...,\n",
       "       [0., 0., 0., ..., 0., 0., 0.],\n",
       "       [0., 0., 0., ..., 0., 0., 0.],\n",
       "       [0., 0., 0., ..., 0., 0., 0.]])"
      ]
     },
     "execution_count": 72,
     "metadata": {},
     "output_type": "execute_result"
    }
   ],
   "source": [
    "a2 = min(theta23_DUT2)*100-300\n",
    "b2 = max(theta23_DUT2)*100 + 300\n",
    "c2 = min(delta_cp_DUT2)-6\n",
    "d2 = max(delta_cp_DUT2)+6\n",
    "x2 = np.linspace(int(a2), int(b2), int((b2 - a2)/5 + 1))/100\n",
    "y2 = np.linspace(int(c2), int(d2), int(d2 - c2 + 1))\n",
    "X2, Y2 = np.meshgrid(x2, y2)\n",
    "Z2 = np.zeros((len(X2),len(X2[0])))\n",
    "\n",
    "for i in range(len(theta23_DUT2)):\n",
    "    a = np.where(X2 == theta23_DUT2[i])[1][0]\n",
    "    b = np.where(Y2 == delta_cp_DUT2[i])[0][0]\n",
    "    Z2[b][a] = 1\n",
    "Z2"
   ]
  },
  {
   "cell_type": "markdown",
   "metadata": {},
   "source": [
    "## Plot"
   ]
  },
  {
   "cell_type": "code",
   "execution_count": 73,
   "metadata": {},
   "outputs": [
    {
     "name": "stderr",
     "output_type": "stream",
     "text": [
      "<ipython-input-73-441813fa46ab>:5: UserWarning: No contour levels were found within the data range.\n",
      "  DUNE = plt.contour(X0, Y0, Z0, 0, colors='green', linestyles=\"-\", linewidths=1)\n",
      "<ipython-input-73-441813fa46ab>:6: UserWarning: No contour levels were found within the data range.\n",
      "  T2HK = plt.contour(X1, Y1, Z1, 0, colors='blue', linestyles=\"-\", linewidths=1)\n",
      "<ipython-input-73-441813fa46ab>:7: UserWarning: No contour levels were found within the data range.\n",
      "  DUT2 = plt.contour(X2, Y2, Z2, 0, colors='red', linestyles=\"-\", linewidths=1)\n"
     ]
    },
    {
     "data": {
      "text/plain": [
       "<matplotlib.legend.Legend at 0x7f1be581e9a0>"
      ]
     },
     "execution_count": 73,
     "metadata": {},
     "output_type": "execute_result"
    },
    {
     "data": {
      "image/png": "[encoded data removed]",
      "text/plain": [
       "<Figure size 576x576 with 1 Axes>"
      ]
     },
     "metadata": {
      "needs_background": "light"
     },
     "output_type": "display_data"
    }
   ],
   "source": [
    "from matplotlib.collections import LineCollection\n",
    "plt.figure(figsize = (8,8))\n",
    "plt.xlim(48, 50)\n",
    "plt.ylim(150, 250)\n",
    "DUNE = plt.contour(X0, Y0, Z0, 0, colors='green', linestyles=\"-\", linewidths=1)\n",
    "T2HK = plt.contour(X1, Y1, Z1, 0, colors='blue', linestyles=\"-\", linewidths=1)\n",
    "DUT2 = plt.contour(X2, Y2, Z2, 0, colors='red', linestyles=\"-\", linewidths=1)\n",
    "DUNE.collections[0].set_label(\"DUNE\")\n",
    "T2HK.collections[0].set_label(\"T2HK\")\n",
    "DUT2.collections[0].set_label(\"DUNE+T2HK\")\n",
    "plt.xlabel(r'$\\theta_{23} $', fontsize=20)\n",
    "plt.ylabel(r'$\\delta_{cp} $', fontsize=20)\n",
    "plt.title('GLoBES 'r'$1\\sigma $', fontsize=20)\n",
    "plt.legend()"
   ]
  },
  {
   "cell_type": "code",
   "execution_count": null,
   "metadata": {},
   "outputs": [],
   "source": []
  },
  {
   "cell_type": "code",
   "execution_count": null,
   "metadata": {},
   "outputs": [],
   "source": []
  },
  {
   "cell_type": "code",
   "execution_count": null,
   "metadata": {},
   "outputs": [],
   "source": []
  }
 ],
 "metadata": {
  "kernelspec": {
   "display_name": "Python 3",
   "language": "python",
   "name": "python3"
  },
  "language_info": {
   "codemirror_mode": {
    "name": "ipython",
    "version": 3
   },
   "file_extension": ".py",
   "mimetype": "text/x-python",
   "name": "python",
   "nbconvert_exporter": "python",
   "pygments_lexer": "ipython3",
   "version": "3.8.5"
  }
 },
 "nbformat": 4,
 "nbformat_minor": 4
}
