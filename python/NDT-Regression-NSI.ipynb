{
 "cells": [
  {
   "cell_type": "code",
   "execution_count": 24,
   "id": "american-arena",
   "metadata": {},
   "outputs": [],
   "source": [
    "import numpy as np # linear algebra\n",
    "import pandas as pd # data processing, CSV file I/O (e.g. pd.read_csv)\n",
    "import matplotlib.pyplot as plt"
   ]
  },
  {
   "cell_type": "code",
   "execution_count": 2,
   "id": "metric-precipitation",
   "metadata": {},
   "outputs": [
    {
     "name": "stdout",
     "output_type": "stream",
     "text": [
      "/docker_workplace/globes-3.2.18/examples/sample_nsi/sample_regression_NSI_v1_10000000.dat\n",
      "/docker_workplace/globes-3.2.18/examples/sample_nsi/sample_regression_NSI_v2_10000000.dat\n",
      "/docker_workplace/globes-3.2.18/examples/sample_nsi/sample_regression_NSI_v3_10000000.dat\n",
      "/docker_workplace/globes-3.2.18/examples/sample_nsi/sample_regression_NSI_v4_10000000.dat\n",
      "/docker_workplace/globes-3.2.18/examples/sample_nsi/sample_regression_NSI_v5_10000000.dat\n",
      "/docker_workplace/globes-3.2.18/examples/sample_nsi/sample_regression_NSI_v6_10000000.dat\n",
      "/docker_workplace/globes-3.2.18/examples/sample_nsi/sample_regression_NSI_v7_10000000.dat\n",
      "/docker_workplace/globes-3.2.18/examples/sample_nsi/sample_regression_NSI_v8_10000000.dat\n",
      "/docker_workplace/globes-3.2.18/examples/sample_nsi/sample_regression_NSI_v9_10000000.dat\n",
      "/docker_workplace/globes-3.2.18/examples/sample_nsi/sample_regression_NSI_v10_10000000.dat\n"
     ]
    }
   ],
   "source": [
    "for i in range(10):\n",
    "    print(\"/docker_workplace/globes-3.2.18/examples/sample_nsi/sample_regression_NSI_v\"+str(i+1)+\"_10000000.dat\")"
   ]
  },
  {
   "cell_type": "code",
   "execution_count": 27,
   "id": "closing-saturn",
   "metadata": {},
   "outputs": [
    {
     "name": "stdout",
     "output_type": "stream",
     "text": [
      "/docker_workplace/globes-3.2.18/examples/python/output/sample_nsi_regression_1e7_v1\n",
      "/docker_workplace/globes-3.2.18/examples/python/output/sample_nsi_regression_1e7_v2\n",
      "/docker_workplace/globes-3.2.18/examples/python/output/sample_nsi_regression_1e7_v3\n",
      "/docker_workplace/globes-3.2.18/examples/python/output/sample_nsi_regression_1e7_v4\n",
      "/docker_workplace/globes-3.2.18/examples/python/output/sample_nsi_regression_1e7_v5\n",
      "/docker_workplace/globes-3.2.18/examples/python/output/sample_nsi_regression_1e7_v6\n",
      "/docker_workplace/globes-3.2.18/examples/python/output/sample_nsi_regression_1e7_v7\n",
      "/docker_workplace/globes-3.2.18/examples/python/output/sample_nsi_regression_1e7_v8\n",
      "/docker_workplace/globes-3.2.18/examples/python/output/sample_nsi_regression_1e7_v9\n",
      "/docker_workplace/globes-3.2.18/examples/python/output/sample_nsi_regression_1e7_v10\n"
     ]
    }
   ],
   "source": [
    "for i in range(10):\n",
    "    print(\"/docker_workplace/globes-3.2.18/examples/python/output/sample_nsi_regression_1e7_v\"+str(i+1))"
   ]
  },
  {
   "cell_type": "code",
   "execution_count": 29,
   "id": "earned-secretariat",
   "metadata": {},
   "outputs": [],
   "source": [
    "f = open(\"/docker_workplace/globes-3.2.18/examples/sample_nsi/sample_regression_NSI_v\"+str(i+1)+\"_10000000.dat\")\n",
    "f.close()"
   ]
  },
  {
   "cell_type": "code",
   "execution_count": null,
   "id": "subject-china",
   "metadata": {},
   "outputs": [
    {
     "name": "stdout",
     "output_type": "stream",
     "text": [
      "Start Transformation\n",
      "v1\n"
     ]
    }
   ],
   "source": [
    "%%time\n",
    "print(\"Start Transformation\")\n",
    "#Import txt檔\n",
    "for i in range(10):\n",
    "    print(\"v\"+str(i+1))\n",
    "    f = open(\"/docker_workplace/globes-3.2.18/examples/sample_nsi/sample_regression_NSI_v\"+str(i+1)+\"_10000000.dat\")\n",
    "    ve_dune = []\n",
    "    vebar_dune = []\n",
    "    vu_dune = []\n",
    "    vubar_dune = []\n",
    "    ve_t2hk = []\n",
    "    vu_t2hk = []\n",
    "    vebar_t2hk = []\n",
    "    vubar_t2hk = []\n",
    "    theta12 = []\n",
    "    theta13 = []\n",
    "    theta23 = []\n",
    "    delta = []\n",
    "    sdm = []\n",
    "    ldm = []\n",
    "    mumu = []\n",
    "    emu = []\n",
    "    etau = []\n",
    "    f.readline()\n",
    "    f.readline()\n",
    "    for k in range(10000000):\n",
    "        s = [float(c) for c in f.readline().split()]\n",
    "        ve_dune.append(s[0:66])\n",
    "        vebar_dune.append(s[66:132])\n",
    "        vu_dune.append(s[132:198])\n",
    "        vubar_dune.append(s[198:264])\n",
    "        ve_t2hk.append(s[264:272])\n",
    "        vu_t2hk.append(s[272:284])\n",
    "        vebar_t2hk.append(s[284:292])\n",
    "        vubar_t2hk.append(s[292:304])\n",
    "        theta12.append(s[304])\n",
    "        theta13.append(s[305])\n",
    "        theta23.append(s[306])\n",
    "        delta.append(s[307])\n",
    "        sdm.append(s[308])\n",
    "        ldm.append(s[309])\n",
    "        mumu.append(s[310])\n",
    "        emu.append(s[311])\n",
    "        etau.append(s[312])\n",
    "    f.close()\n",
    "#輸出全部資料為npz檔\n",
    "    np.savez(\"/docker_workplace/globes-3.2.18/examples/python/output/sample_nsi_regression_1e7_v\"+str(i+1),\n",
    "             ve_dune = ve_dune,\n",
    "             vebar_dune = vebar_dune,\n",
    "             vu_dune = vu_dune,\n",
    "             vubar_dune = vubar_dune,\n",
    "             ve_t2hk = ve_t2hk,\n",
    "             vu_t2hk = vu_t2hk,\n",
    "             vebar_t2hk = vebar_t2hk,\n",
    "             vubar_t2hk= vubar_t2hk,\n",
    "             theta12 = theta12,\n",
    "             theta13 = theta13,   \n",
    "             theta23 = theta23,   \n",
    "             delta = delta,\n",
    "             sdm = sdm,   \n",
    "             ldm = ldm,  \n",
    "             mumu = mumu,\n",
    "             emu = emu,   \n",
    "             etau = etau  \n",
    "            )\n",
    "print(\"Transformation Completed\")"
   ]
  },
  {
   "cell_type": "markdown",
   "id": "human-sunset",
   "metadata": {},
   "source": [
    "# Test"
   ]
  },
  {
   "cell_type": "code",
   "execution_count": 40,
   "id": "refined-radius",
   "metadata": {},
   "outputs": [],
   "source": [
    "data = np.load('/docker_workplace/globes-3.2.18/examples/python/output/sample_nsi_regression_1e7_v10.npz')"
   ]
  },
  {
   "cell_type": "code",
   "execution_count": 41,
   "id": "parallel-sarah",
   "metadata": {
    "tags": []
   },
   "outputs": [
    {
     "data": {
      "text/plain": [
       "['ve_dune',\n",
       " 'vebar_dune',\n",
       " 'vu_dune',\n",
       " 'vubar_dune',\n",
       " 've_t2hk',\n",
       " 'vu_t2hk',\n",
       " 'vebar_t2hk',\n",
       " 'vubar_t2hk',\n",
       " 'theta12',\n",
       " 'theta13',\n",
       " 'theta23',\n",
       " 'delta',\n",
       " 'sdm',\n",
       " 'ldm',\n",
       " 'mumu',\n",
       " 'emu',\n",
       " 'etau']"
      ]
     },
     "execution_count": 41,
     "metadata": {},
     "output_type": "execute_result"
    }
   ],
   "source": [
    "data.files"
   ]
  },
  {
   "cell_type": "code",
   "execution_count": 42,
   "id": "excited-accounting",
   "metadata": {},
   "outputs": [
    {
     "data": {
      "text/plain": [
       "Text(0.5, 1.0, '$\\\\theta_{12} $')"
      ]
     },
     "execution_count": 42,
     "metadata": {},
     "output_type": "execute_result"
    },
    {
     "data": {
      "image/png": "[encoded data removed]",
      "text/plain": [
       "<Figure size 360x360 with 1 Axes>"
      ]
     },
     "metadata": {
      "needs_background": "light"
     },
     "output_type": "display_data"
    }
   ],
   "source": [
    "plt.figure(figsize = (5,5))\n",
    "plt.hist(data['theta12'],bins=100,color = \"skyblue\")\n",
    "plt.xlabel(r'$\\theta $', fontsize=15)\n",
    "plt.ylabel('#', fontsize=15)\n",
    "plt.title(r'$\\theta_{12} $', fontsize=15)"
   ]
  },
  {
   "cell_type": "code",
   "execution_count": null,
   "id": "architectural-opposition",
   "metadata": {},
   "outputs": [],
   "source": [
    "plt.figure(figsize = (5,5))\n",
    "plt.hist(data['theta13'],bins=100,color = \"skyblue\")\n",
    "plt.xlabel(r'$\\theta$', fontsize=15)\n",
    "plt.ylabel('#', fontsize=15)\n",
    "plt.title(r'$\\theta_{13} $', fontsize=15)"
   ]
  },
  {
   "cell_type": "code",
   "execution_count": null,
   "id": "genetic-february",
   "metadata": {},
   "outputs": [],
   "source": [
    "plt.figure(figsize = (5,5))\n",
    "plt.hist(data['theta23'],bins=100,color = \"skyblue\")\n",
    "plt.xlabel(r'$\\theta $', fontsize=15)\n",
    "plt.ylabel('#', fontsize=15)\n",
    "plt.title(r'$\\theta_{23} $', fontsize=15)"
   ]
  },
  {
   "cell_type": "code",
   "execution_count": null,
   "id": "opened-gravity",
   "metadata": {},
   "outputs": [],
   "source": [
    "plt.figure(figsize = (5,5))\n",
    "plt.hist(data['delta'],bins=100,color = \"skyblue\")\n",
    "plt.xlabel(r'$\\theta $', fontsize=15)\n",
    "plt.ylabel('#', fontsize=15)\n",
    "plt.title(r'$\\delta_{CP} $', fontsize=15)"
   ]
  },
  {
   "cell_type": "code",
   "execution_count": null,
   "id": "original-worse",
   "metadata": {},
   "outputs": [],
   "source": [
    "plt.figure(figsize = (5,5))\n",
    "plt.hist(data['sdm'],bins=100,color = \"skyblue\")\n",
    "plt.xlabel(r'$10^-5  eV^2 $', fontsize=15)\n",
    "plt.ylabel('#', fontsize=15)\n",
    "plt.title(r'$\\Delta m^2_{21} $', fontsize=15)"
   ]
  },
  {
   "cell_type": "code",
   "execution_count": null,
   "id": "structured-cookbook",
   "metadata": {},
   "outputs": [],
   "source": [
    "plt.figure(figsize = (5,5))\n",
    "plt.hist(data['ldm'],bins=100,color = \"skyblue\")\n",
    "plt.xlabel(r'$10^-5  eV^2 $', fontsize=15)\n",
    "plt.ylabel('#', fontsize=15)\n",
    "plt.title(r'$\\Delta m^2_{31} $', fontsize=15)"
   ]
  },
  {
   "cell_type": "code",
   "execution_count": null,
   "id": "outstanding-extreme",
   "metadata": {},
   "outputs": [],
   "source": [
    "plt.figure(figsize = (5,5))\n",
    "plt.hist(data['ldm'][data['ldm']>0],bins=100,color = \"skyblue\")\n",
    "plt.xlabel(r'$10^-5  eV^2 $', fontsize=15)\n",
    "plt.ylabel('#', fontsize=15)\n",
    "plt.title(r'$\\Delta m^2_{31} $', fontsize=15)"
   ]
  },
  {
   "cell_type": "code",
   "execution_count": null,
   "id": "tight-buyer",
   "metadata": {},
   "outputs": [],
   "source": [
    "plt.figure(figsize = (5,5))\n",
    "plt.hist(data['mumu'],bins=100,color = \"skyblue\")\n",
    "plt.xlabel(r'$10^-5  eV^2 $', fontsize=15)\n",
    "plt.ylabel('#', fontsize=15)\n",
    "plt.title(r'$mumu $', fontsize=15)"
   ]
  },
  {
   "cell_type": "code",
   "execution_count": null,
   "id": "embedded-infrastructure",
   "metadata": {},
   "outputs": [],
   "source": [
    "plt.figure(figsize = (5,5))\n",
    "plt.hist(data['emu'],bins=100,color = \"skyblue\")\n",
    "plt.xlabel(r'$10^-5  eV^2 $', fontsize=15)\n",
    "plt.ylabel('#', fontsize=15)\n",
    "plt.title(r'$emu $', fontsize=15)"
   ]
  },
  {
   "cell_type": "code",
   "execution_count": null,
   "id": "honey-cocktail",
   "metadata": {},
   "outputs": [],
   "source": [
    "plt.figure(figsize = (5,5))\n",
    "plt.hist(data['etau'],bins=100,color = \"skyblue\")\n",
    "plt.xlabel(r'$10^-5  eV^2 $', fontsize=15)\n",
    "plt.ylabel('#', fontsize=15)\n",
    "plt.title(r'$etau $', fontsize=15)"
   ]
  },
  {
   "cell_type": "code",
   "execution_count": null,
   "id": "cubic-cheat",
   "metadata": {},
   "outputs": [],
   "source": [
    "# Spectrum \n",
    "data = np.load('/docker_workplace/globes-3.2.18/examples/python/output/sample_nsi_regression_1e8.npz')\n",
    "plt.figure(figsize = (10,50))\n",
    "feature = ['ve_dune','vebar_dune','vu_dune','vubar_dune','ve_t2hk','vu_t2hk','vebar_t2hk','vubar_t2hk']\n",
    "n = 0\n",
    "for i in feature:\n",
    "    n = n+1\n",
    "    plt.subplot(len(feature),1,n)\n",
    "    plt.xlabel('bin number', fontsize=15)\n",
    "    plt.ylabel('#', fontsize=15)\n",
    "    y = data[i][2]\n",
    "    x = range(len(y))\n",
    "    plt.plot(x,y)\n",
    "    plt.title(i, fontsize=15)\n"
   ]
  },
  {
   "cell_type": "code",
   "execution_count": null,
   "id": "dental-weekly",
   "metadata": {},
   "outputs": [],
   "source": [
    "data = np.load('/docker_workplace/globes-3.2.18/examples/python/output/sample_ML_classification.npz')\n",
    "# Spectrum \n",
    "plt.figure(figsize = (10,50))\n",
    "feature = ['ve_dune','vebar_dune','vu_dune','vubar_dune','ve_t2hk','vu_t2hk','vebar_t2hk','vubar_t2hk']\n",
    "n = 0\n",
    "for i in feature:\n",
    "    n = n+1\n",
    "    plt.subplot(len(feature),1,n)\n",
    "    plt.xlabel('bin number', fontsize=15)\n",
    "    plt.ylabel('#', fontsize=15)\n",
    "    y = data[i][2]\n",
    "    x = range(len(y))\n",
    "    plt.plot(x,y)\n",
    "    plt.title(i, fontsize=15)\n",
    "\n"
   ]
  },
  {
   "cell_type": "code",
   "execution_count": null,
   "id": "determined-verification",
   "metadata": {},
   "outputs": [],
   "source": [
    "python/output/sample_ML_classification.npz"
   ]
  }
 ],
 "metadata": {
  "kernelspec": {
   "display_name": "Python 3",
   "language": "python",
   "name": "python3"
  },
  "language_info": {
   "codemirror_mode": {
    "name": "ipython",
    "version": 3
   },
   "file_extension": ".py",
   "mimetype": "text/x-python",
   "name": "python",
   "nbconvert_exporter": "python",
   "pygments_lexer": "ipython3",
   "version": "3.8.5"
  }
 },
 "nbformat": 4,
 "nbformat_minor": 5
}
