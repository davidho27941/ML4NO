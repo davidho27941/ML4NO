{
 "cells": [
  {
   "cell_type": "code",
   "execution_count": 27,
   "id": "higher-croatia",
   "metadata": {},
   "outputs": [],
   "source": [
    "import numpy as np # linear algebra\n",
    "import pandas as pd # data processing, CSV file I/O (e.g. pd.read_csv)\n",
    "import matplotlib.pyplot as plt"
   ]
  },
  {
   "cell_type": "code",
   "execution_count": 19,
   "id": "indian-montana",
   "metadata": {},
   "outputs": [],
   "source": [
    "#Import txt檔\n",
    "f = open(\"/docker_workplace/globes-3.2.18/examples/best_fit_spectrum_deltacp_theta23_grid_mse.dat\")"
   ]
  },
  {
   "cell_type": "code",
   "execution_count": 20,
   "id": "preliminary-personality",
   "metadata": {},
   "outputs": [],
   "source": [
    "theta12_true = []\n",
    "theta13_true = []\n",
    "theta23_true = []\n",
    "delta_true = []\n",
    "sdm_true = []\n",
    "ldm_true = []\n",
    "\n",
    "theta23_initial = []\n",
    "delta_initial = []\n",
    "chi2 = []\n",
    "\n",
    "theta12_fit = []\n",
    "theta13_fit = []\n",
    "theta23_fit = []\n",
    "delta_fit = []\n",
    "sdm_fit = []\n",
    "ldm_fit = []\n",
    "\n",
    "while True:\n",
    "    s = [float(c) for c in f.readline().split()]\n",
    "    if(len(s)>0):\n",
    "        theta12_true.append(s[0])\n",
    "        theta13_true.append(s[1])\n",
    "        theta23_true.append(s[2])\n",
    "        delta_true.append(s[3])\n",
    "        sdm_true.append(s[4])\n",
    "        ldm_true.append(s[5])\n",
    "        theta23_initial.append(s[6])\n",
    "        delta_initial.append(s[7])\n",
    "        chi2.append(s[8])\n",
    "        theta12_fit.append(s[9])\n",
    "        theta13_fit.append(s[10])\n",
    "        theta23_fit.append(s[11])\n",
    "        delta_fit.append(s[12])\n",
    "        sdm_fit.append(s[13])\n",
    "        ldm_fit.append(s[14])\n",
    "    else:\n",
    "        break    "
   ]
  },
  {
   "cell_type": "code",
   "execution_count": 21,
   "id": "spiritual-replacement",
   "metadata": {},
   "outputs": [],
   "source": [
    "#輸出全部資料為npz檔\n",
    "np.savez(\"/docker_workplace/globes-3.2.18/examples/python/output/best_fit_spectrum_deltacp_theta23_grid_mse\",\n",
    "        theta12_true = theta12_true,\n",
    "        theta13_true = theta13_true,\n",
    "        theta23_true = theta23_true,\n",
    "        delta_true = delta_true,\n",
    "        sdm_true = sdm_true,\n",
    "        ldm_true = ldm_true,\n",
    "        theta23_initial = theta23_initial,\n",
    "        delta_initial = delta_initial,\n",
    "        chi2 = chi2,\n",
    "        theta12_fit = theta12_fit,\n",
    "        theta13_fit = theta13_fit,\n",
    "        theta23_fit = theta23_fit,\n",
    "        delta_fit = delta_fit,\n",
    "        sdm_fit = sdm_fit,\n",
    "        ldm_fit = ldm_fit\n",
    "        )"
   ]
  },
  {
   "cell_type": "markdown",
   "id": "overall-housing",
   "metadata": {},
   "source": [
    "# Test"
   ]
  },
  {
   "cell_type": "code",
   "execution_count": 22,
   "id": "respiratory-arctic",
   "metadata": {},
   "outputs": [],
   "source": [
    "data = np.load('/docker_workplace/globes-3.2.18/examples/python/output/best_fit_spectrum_deltacp_theta23_grid_mse.npz')"
   ]
  },
  {
   "cell_type": "code",
   "execution_count": 23,
   "id": "electronic-vector",
   "metadata": {},
   "outputs": [
    {
     "data": {
      "text/plain": [
       "['theta12_true',\n",
       " 'theta13_true',\n",
       " 'theta23_true',\n",
       " 'delta_true',\n",
       " 'sdm_true',\n",
       " 'ldm_true',\n",
       " 'theta23_initial',\n",
       " 'delta_initial',\n",
       " 'chi2',\n",
       " 'theta12_fit',\n",
       " 'theta13_fit',\n",
       " 'theta23_fit',\n",
       " 'delta_fit',\n",
       " 'sdm_fit',\n",
       " 'ldm_fit']"
      ]
     },
     "execution_count": 23,
     "metadata": {},
     "output_type": "execute_result"
    }
   ],
   "source": [
    "data.files"
   ]
  },
  {
   "cell_type": "code",
   "execution_count": 24,
   "id": "compatible-swiss",
   "metadata": {},
   "outputs": [
    {
     "data": {
      "text/plain": [
       "array([40., 40., 40., ..., 50., 50., 50.])"
      ]
     },
     "execution_count": 24,
     "metadata": {},
     "output_type": "execute_result"
    }
   ],
   "source": [
    "data['theta23_initial']"
   ]
  },
  {
   "cell_type": "code",
   "execution_count": 25,
   "id": "sufficient-extent",
   "metadata": {},
   "outputs": [
    {
     "data": {
      "text/plain": [
       "array([  0.,   9.,  18., ..., 342., 351., 360.])"
      ]
     },
     "execution_count": 25,
     "metadata": {},
     "output_type": "execute_result"
    }
   ],
   "source": [
    "data['delta_initial']"
   ]
  },
  {
   "cell_type": "code",
   "execution_count": 26,
   "id": "informational-wallpaper",
   "metadata": {},
   "outputs": [
    {
     "data": {
      "text/plain": [
       "array([304.211, 340.452, 287.797, ..., 320.18 , 280.768, 299.5  ])"
      ]
     },
     "execution_count": 26,
     "metadata": {},
     "output_type": "execute_result"
    }
   ],
   "source": [
    "data['chi2']"
   ]
  },
  {
   "cell_type": "code",
   "execution_count": 27,
   "id": "satellite-local",
   "metadata": {},
   "outputs": [
    {
     "data": {
      "text/plain": [
       "1681"
      ]
     },
     "execution_count": 27,
     "metadata": {},
     "output_type": "execute_result"
    }
   ],
   "source": [
    "len(data['chi2'])"
   ]
  },
  {
   "cell_type": "markdown",
   "id": "surrounded-proportion",
   "metadata": {},
   "source": [
    "# For Loop"
   ]
  },
  {
   "cell_type": "code",
   "execution_count": 13,
   "id": "coral-match",
   "metadata": {},
   "outputs": [],
   "source": [
    "for i in range(100):\n",
    "    #Import txt檔\n",
    "    f = open(\"/docker_workplace/globes-3.2.18/examples/sample_grid/best_fit_spectrum_deltacp_theta23_grid_mse_ver\"+str(i+1)+\".dat\")\n",
    "    theta12_true = []\n",
    "    theta13_true = []\n",
    "    theta23_true = []\n",
    "    delta_true = []\n",
    "    sdm_true = []\n",
    "    ldm_true = []\n",
    "\n",
    "    theta23_initial = []\n",
    "    delta_initial = []\n",
    "    chi2 = []\n",
    "\n",
    "    theta12_fit = []\n",
    "    theta13_fit = []\n",
    "    theta23_fit = []\n",
    "    delta_fit = []\n",
    "    sdm_fit = []\n",
    "    ldm_fit = []\n",
    "\n",
    "    while True:\n",
    "        s = [float(c) for c in f.readline().split()]\n",
    "        if(len(s)>0):\n",
    "            theta12_true.append(s[0])\n",
    "            theta13_true.append(s[1])\n",
    "            theta23_true.append(s[2])\n",
    "            delta_true.append(s[3])\n",
    "            sdm_true.append(s[4])\n",
    "            ldm_true.append(s[5])\n",
    "            theta23_initial.append(s[6])\n",
    "            delta_initial.append(s[7])\n",
    "            chi2.append(s[8])\n",
    "            theta12_fit.append(s[9])\n",
    "            theta13_fit.append(s[10])\n",
    "            theta23_fit.append(s[11])\n",
    "            delta_fit.append(s[12])\n",
    "            sdm_fit.append(s[13])\n",
    "            ldm_fit.append(s[14])\n",
    "        else:\n",
    "            break    \n",
    "    #輸出全部資料為npz檔\n",
    "    np.savez(\"/docker_workplace/globes-3.2.18/examples/python/output/sample_grid/best_fit_spectrum_deltacp_theta23_grid_mse_ver\"+str(i+1),\n",
    "            theta12_true = theta12_true,\n",
    "            theta13_true = theta13_true,\n",
    "            theta23_true = theta23_true,\n",
    "            delta_true = delta_true,\n",
    "            sdm_true = sdm_true,\n",
    "            ldm_true = ldm_true,\n",
    "            theta23_initial = theta23_initial,\n",
    "            delta_initial = delta_initial,\n",
    "            chi2 = chi2,\n",
    "            theta12_fit = theta12_fit,\n",
    "            theta13_fit = theta13_fit,\n",
    "            theta23_fit = theta23_fit,\n",
    "            delta_fit = delta_fit,\n",
    "            sdm_fit = sdm_fit,\n",
    "            ldm_fit = ldm_fit\n",
    "            )"
   ]
  },
  {
   "cell_type": "code",
   "execution_count": 23,
   "id": "nuclear-irrigation",
   "metadata": {},
   "outputs": [],
   "source": [
    "data = np.load('/docker_workplace/globes-3.2.18/examples/python/output/sample_grid/best_fit_spectrum_deltacp_theta23_grid_mse_ver95.npz')"
   ]
  },
  {
   "cell_type": "code",
   "execution_count": 24,
   "id": "surface-superior",
   "metadata": {},
   "outputs": [
    {
     "data": {
      "text/plain": [
       "['theta12_true',\n",
       " 'theta13_true',\n",
       " 'theta23_true',\n",
       " 'delta_true',\n",
       " 'sdm_true',\n",
       " 'ldm_true',\n",
       " 'theta23_initial',\n",
       " 'delta_initial',\n",
       " 'chi2',\n",
       " 'theta12_fit',\n",
       " 'theta13_fit',\n",
       " 'theta23_fit',\n",
       " 'delta_fit',\n",
       " 'sdm_fit',\n",
       " 'ldm_fit']"
      ]
     },
     "execution_count": 24,
     "metadata": {},
     "output_type": "execute_result"
    }
   ],
   "source": [
    "data.files"
   ]
  },
  {
   "cell_type": "code",
   "execution_count": 25,
   "id": "packed-classic",
   "metadata": {},
   "outputs": [
    {
     "data": {
      "text/plain": [
       "array([0.817098, 0.817098, 0.817098, ..., 0.817098, 0.817098, 0.817098])"
      ]
     },
     "execution_count": 25,
     "metadata": {},
     "output_type": "execute_result"
    }
   ],
   "source": [
    "data['theta23_true']"
   ]
  },
  {
   "cell_type": "code",
   "execution_count": 26,
   "id": "plastic-dictionary",
   "metadata": {},
   "outputs": [
    {
     "data": {
      "text/plain": [
       "array([249.436, 249.436, 249.436, ..., 249.436, 249.436, 249.436])"
      ]
     },
     "execution_count": 26,
     "metadata": {},
     "output_type": "execute_result"
    }
   ],
   "source": [
    "data['delta_true']"
   ]
  },
  {
   "cell_type": "code",
   "execution_count": 16,
   "id": "isolated-waters",
   "metadata": {},
   "outputs": [
    {
     "data": {
      "text/plain": [
       "array([40., 40., 40., ..., 50., 50., 50.])"
      ]
     },
     "execution_count": 16,
     "metadata": {},
     "output_type": "execute_result"
    }
   ],
   "source": [
    "data['theta23_initial']"
   ]
  },
  {
   "cell_type": "code",
   "execution_count": 17,
   "id": "peaceful-mambo",
   "metadata": {},
   "outputs": [
    {
     "data": {
      "text/plain": [
       "array([  0.,   9.,  18., ..., 342., 351., 360.])"
      ]
     },
     "execution_count": 17,
     "metadata": {},
     "output_type": "execute_result"
    }
   ],
   "source": [
    "data['delta_initial']"
   ]
  },
  {
   "cell_type": "code",
   "execution_count": 18,
   "id": "fewer-prescription",
   "metadata": {},
   "outputs": [
    {
     "data": {
      "text/plain": [
       "array([405.711, 379.148, 324.356, ..., 282.221, 323.2  , 321.459])"
      ]
     },
     "execution_count": 18,
     "metadata": {},
     "output_type": "execute_result"
    }
   ],
   "source": [
    "data['chi2']"
   ]
  },
  {
   "cell_type": "code",
   "execution_count": 19,
   "id": "ruled-carnival",
   "metadata": {},
   "outputs": [
    {
     "data": {
      "text/plain": [
       "1681"
      ]
     },
     "execution_count": 19,
     "metadata": {},
     "output_type": "execute_result"
    }
   ],
   "source": [
    "len(data['chi2'])"
   ]
  },
  {
   "cell_type": "code",
   "execution_count": null,
   "id": "adaptive-participant",
   "metadata": {},
   "outputs": [],
   "source": []
  }
 ],
 "metadata": {
  "kernelspec": {
   "display_name": "Python 3",
   "language": "python",
   "name": "python3"
  },
  "language_info": {
   "codemirror_mode": {
    "name": "ipython",
    "version": 3
   },
   "file_extension": ".py",
   "mimetype": "text/x-python",
   "name": "python",
   "nbconvert_exporter": "python",
   "pygments_lexer": "ipython3",
   "version": "3.8.5"
  }
 },
 "nbformat": 4,
 "nbformat_minor": 5
}
